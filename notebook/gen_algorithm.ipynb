{
 "cells": [
  {
   "cell_type": "code",
   "execution_count": 30,
   "id": "adf4f4ac",
   "metadata": {},
   "outputs": [],
   "source": [
    "import numpy\n",
    "import pandas\n",
    "import requests\n",
    "import datetime\n",
    "\n",
    "import random\n",
    "import subprocess\n",
    "\n",
    "\n",
    "from krkn_lib.prometheus.krkn_prometheus import KrknPrometheus"
   ]
  },
  {
   "cell_type": "code",
   "execution_count": 2,
   "id": "84ba2c51",
   "metadata": {},
   "outputs": [],
   "source": [
    "PROMETHEUS_TOKEN=!oc whoami -t \n",
    "PROMETHEUS_TOKEN=PROMETHEUS_TOKEN[0]"
   ]
  },
  {
   "cell_type": "code",
   "execution_count": 3,
   "id": "4b370009",
   "metadata": {},
   "outputs": [
    {
     "data": {
      "text/plain": [
       "'https://thanos-querier-openshift-monitoring.apps.rosa.f4fka-iuu6j-zyb.f17v.p3.openshiftapps.com'"
      ]
     },
     "execution_count": 3,
     "metadata": {},
     "output_type": "execute_result"
    }
   ],
   "source": [
    "PROMETHEUS_HOST = !kubectl -n openshift-monitoring get route -l app.kubernetes.io/name=thanos-query -o json | jq --raw-output '.items[0].spec.host'\n",
    "PROMETHEUS_HOST = \"https://\" + PROMETHEUS_HOST[0]\n",
    "PROMETHEUS_HOST"
   ]
  },
  {
   "cell_type": "code",
   "execution_count": 4,
   "id": "95fa6093",
   "metadata": {},
   "outputs": [
    {
     "data": {
      "text/plain": [
       "'2025-05-19T12:27:38.831400+00:00'"
      ]
     },
     "execution_count": 4,
     "metadata": {},
     "output_type": "execute_result"
    }
   ],
   "source": [
    "datetime.datetime.now(datetime.timezone.utc).isoformat()"
   ]
  },
  {
   "cell_type": "code",
   "execution_count": 5,
   "id": "bb184bd7",
   "metadata": {},
   "outputs": [
    {
     "data": {
      "text/plain": [
       "1747657660.582231"
      ]
     },
     "execution_count": 5,
     "metadata": {},
     "output_type": "execute_result"
    }
   ],
   "source": [
    "datetime.datetime.now().timestamp()"
   ]
  },
  {
   "cell_type": "code",
   "execution_count": 6,
   "id": "bc672c2e",
   "metadata": {},
   "outputs": [],
   "source": [
    "krkn_prom = KrknPrometheus(\n",
    "    prometheus_url=PROMETHEUS_HOST,\n",
    "    prometheus_bearer_token=PROMETHEUS_TOKEN\n",
    ")"
   ]
  },
  {
   "cell_type": "code",
   "execution_count": 7,
   "id": "f0a9a263",
   "metadata": {},
   "outputs": [
    {
     "data": {
      "text/plain": [
       "[{'metric': {}, 'value': [1747657665.698, '1']}]"
      ]
     },
     "execution_count": 7,
     "metadata": {},
     "output_type": "execute_result"
    }
   ],
   "source": [
    "krkn_prom.process_query('sum(kube_pod_container_status_restarts_total{namespace=\"robot-shop\"})')"
   ]
  },
  {
   "cell_type": "code",
   "execution_count": null,
   "id": "6e92a836",
   "metadata": {},
   "outputs": [
    {
     "data": {
      "text/plain": [
       "[{'metric': {},\n",
       "  'values': [[1747654535, '1'],\n",
       "   [1747654635, '1'],\n",
       "   [1747654735, '1'],\n",
       "   [1747654835, '1'],\n",
       "   [1747654935, '1'],\n",
       "   [1747655035, '1'],\n",
       "   [1747655135, '1'],\n",
       "   [1747655235, '1'],\n",
       "   [1747655335, '1'],\n",
       "   [1747655435, '1'],\n",
       "   [1747655535, '1'],\n",
       "   [1747655635, '1'],\n",
       "   [1747655735, '1'],\n",
       "   [1747655835, '1'],\n",
       "   [1747655935, '1'],\n",
       "   [1747656035, '1'],\n",
       "   [1747656135, '1'],\n",
       "   [1747656235, '1'],\n",
       "   [1747656335, '1'],\n",
       "   [1747656435, '1'],\n",
       "   [1747656535, '1'],\n",
       "   [1747656635, '1'],\n",
       "   [1747656735, '1'],\n",
       "   [1747656835, '1'],\n",
       "   [1747656935, '1'],\n",
       "   [1747657035, '1'],\n",
       "   [1747657135, '1'],\n",
       "   [1747657235, '1'],\n",
       "   [1747657335, '1'],\n",
       "   [1747657435, '1'],\n",
       "   [1747657535, '1'],\n",
       "   [1747657635, '1'],\n",
       "   [1747657735, '1'],\n",
       "   [1747657835, '1'],\n",
       "   [1747657935, '1'],\n",
       "   [1747658035, '1'],\n",
       "   [1747658135, '1']]}]"
      ]
     },
     "execution_count": 9,
     "metadata": {},
     "output_type": "execute_result"
    }
   ],
   "source": [
    "krkn_prom.process_prom_query_in_range(\n",
    "    'sum(kube_pod_container_status_restarts_total{namespace=\"robot-shop\"})',\n",
    "    start_time=datetime.datetime.now() - datetime.timedelta(durations=1),\n",
    "    end_time=datetime.datetime.now(),\n",
    "    granularity=100\n",
    ")"
   ]
  },
  {
   "cell_type": "code",
   "execution_count": 18,
   "id": "d7201161",
   "metadata": {},
   "outputs": [],
   "source": [
    "# Sample Config\n",
    "SCENARIOS = [\n",
    "    {\n",
    "        \"name\": \"application-outages\",\n",
    "        \"params\": {\n",
    "            \"namespace\": [ \"robot-shop\" ],\n",
    "            \"pod-selector\": [\"service=cart\", \"service=catalogue\", \"service=dispatch\",\"service=mongodb\",\"service=mysql\", \"service=payment\", \"service=rabbitmq\", \"service=ratings\", \"service=redis\", \"service=shipping\", \"service=user\", \"service=web\"],\n",
    "            \"block-traffic-type\": [\"Ingress\", \"Egress\"]\n",
    "        }\n",
    "    }\n",
    "]\n",
    "\n",
    "PROMQL_METRIC = \"\"\n",
    "\n",
    "CHAOS_DURATION = 120\n",
    "\n",
    "POPULATION_SIZE = 10\n",
    "\n",
    "random.seed(123)"
   ]
  },
  {
   "cell_type": "code",
   "execution_count": 19,
   "id": "aef9a23c",
   "metadata": {},
   "outputs": [],
   "source": [
    "def create_population(population_size=10):\n",
    "    population = []\n",
    "    \n",
    "    while len(population) != population_size:\n",
    "        random_scenario = random.choice(SCENARIOS)\n",
    "        population_member = { \"name\": random_scenario['name'] }\n",
    "        for param_name in random_scenario['params']:\n",
    "            population_member[param_name] = random.choice(random_scenario['params'][param_name])\n",
    "        population.append(population_member)\n",
    "\n",
    "    return population"
   ]
  },
  {
   "cell_type": "code",
   "execution_count": 27,
   "id": "37203487",
   "metadata": {},
   "outputs": [
    {
     "data": {
      "text/plain": [
       "[{'name': 'application-outages',\n",
       "  'namespace': 'robot-shop',\n",
       "  'pod-selector': 'service=cart',\n",
       "  'block-traffic-type': 'Egress'},\n",
       " {'name': 'application-outages',\n",
       "  'namespace': 'robot-shop',\n",
       "  'pod-selector': 'service=cart',\n",
       "  'block-traffic-type': 'Ingress'},\n",
       " {'name': 'application-outages',\n",
       "  'namespace': 'robot-shop',\n",
       "  'pod-selector': 'service=web',\n",
       "  'block-traffic-type': 'Ingress'},\n",
       " {'name': 'application-outages',\n",
       "  'namespace': 'robot-shop',\n",
       "  'pod-selector': 'service=web',\n",
       "  'block-traffic-type': 'Ingress'}]"
      ]
     },
     "execution_count": 27,
     "metadata": {},
     "output_type": "execute_result"
    }
   ],
   "source": [
    "create_population(4)"
   ]
  },
  {
   "cell_type": "code",
   "execution_count": 35,
   "id": "a41dec1f",
   "metadata": {},
   "outputs": [],
   "source": [
    "def run_shell(command):\n",
    "    result = subprocess.run(command, shell=True, text=True, capture_output=True)\n",
    "    if result.returncode == 0:\n",
    "        return result.stdout\n",
    "    else:\n",
    "        return result.stderr"
   ]
  },
  {
   "cell_type": "code",
   "execution_count": null,
   "id": "b17d9a33",
   "metadata": {},
   "outputs": [],
   "source": [
    "def run_krkn_scenario(scenario):\n",
    "    pass"
   ]
  },
  {
   "cell_type": "code",
   "execution_count": null,
   "id": "73d500a9",
   "metadata": {},
   "outputs": [],
   "source": [
    "def calculate_fitness():\n",
    "    pass\n"
   ]
  },
  {
   "cell_type": "code",
   "execution_count": null,
   "id": "30a7e082",
   "metadata": {},
   "outputs": [],
   "source": [
    "def genetic_algorithm(init_population_size=10, generations=20):\n",
    "    population = create_population(init_population_size)\n",
    "\n",
    "    for generation in range(generations):\n",
    "        print(f\"-\"*20)\n",
    "        print(f\"Generation {generation + 1}\")\n",
    "        \n",
    "        # Evaluate fitness of the current population\n"
   ]
  },
  {
   "cell_type": "code",
   "execution_count": 29,
   "id": "89735e4f",
   "metadata": {},
   "outputs": [
    {
     "name": "stdout",
     "output_type": "stream",
     "text": [
      "--------------------\n",
      "Generation 1\n",
      "--------------------\n",
      "Generation 2\n",
      "--------------------\n",
      "Generation 3\n",
      "--------------------\n",
      "Generation 4\n",
      "--------------------\n",
      "Generation 5\n",
      "--------------------\n",
      "Generation 6\n",
      "--------------------\n",
      "Generation 7\n",
      "--------------------\n",
      "Generation 8\n",
      "--------------------\n",
      "Generation 9\n",
      "--------------------\n",
      "Generation 10\n",
      "--------------------\n",
      "Generation 11\n",
      "--------------------\n",
      "Generation 12\n",
      "--------------------\n",
      "Generation 13\n",
      "--------------------\n",
      "Generation 14\n",
      "--------------------\n",
      "Generation 15\n",
      "--------------------\n",
      "Generation 16\n",
      "--------------------\n",
      "Generation 17\n",
      "--------------------\n",
      "Generation 18\n",
      "--------------------\n",
      "Generation 19\n",
      "--------------------\n",
      "Generation 20\n"
     ]
    }
   ],
   "source": [
    "genetic_algorithm()"
   ]
  }
 ],
 "metadata": {
  "kernelspec": {
   "display_name": ".venv",
   "language": "python",
   "name": "python3"
  },
  "language_info": {
   "codemirror_mode": {
    "name": "ipython",
    "version": 3
   },
   "file_extension": ".py",
   "mimetype": "text/x-python",
   "name": "python",
   "nbconvert_exporter": "python",
   "pygments_lexer": "ipython3",
   "version": "3.9.21"
  }
 },
 "nbformat": 4,
 "nbformat_minor": 5
}
